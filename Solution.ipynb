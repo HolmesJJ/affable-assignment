{
 "cells": [
  {
   "cell_type": "code",
   "execution_count": 1,
   "id": "1e7ca609",
   "metadata": {},
   "outputs": [],
   "source": [
    "import ast\n",
    "import numpy as np\n",
    "import pandas as pd\n",
    "import pickle\n",
    "import random\n",
    "import string\n",
    "import mglearn\n",
    "import matplotlib.pyplot as plt\n",
    "\n",
    "from keras.models import Model\n",
    "from keras.layers import LSTM\n",
    "from keras.layers import Dense\n",
    "from keras.layers import Input\n",
    "from keras.layers import Conv1D\n",
    "from keras.layers import Dropout\n",
    "from keras.layers import Flatten\n",
    "from keras.layers import Embedding\n",
    "from keras.layers import Activation\n",
    "from keras.layers import concatenate\n",
    "from keras.layers import MaxPooling1D\n",
    "from keras.layers import Bidirectional\n",
    "from keras.callbacks import EarlyStopping\n",
    "from keras.callbacks import ModelCheckpoint\n",
    "from sklearn.metrics import roc_curve\n",
    "from sklearn.metrics import confusion_matrix\n",
    "from sklearn.metrics import classification_report\n",
    "from sklearn.metrics import precision_recall_curve\n",
    "from sklearn.model_selection import train_test_split\n",
    "from sklearn.preprocessing import StandardScaler\n",
    "from sklearn.decomposition import PCA"
   ]
  },
  {
   "cell_type": "code",
   "execution_count": 2,
   "id": "2948cb09",
   "metadata": {},
   "outputs": [],
   "source": [
    "PATHS = {\n",
    "    \"dataset\": \"data.csv\",\n",
    "    \"feature-columns\": \"feature-columns.pkl\",\n",
    "    \"image-labels\": \"image-labels.pkl\",\n",
    "    \"scaler\": \"classifiers/scaler.pkl\",\n",
    "    \"pca\": \"classifiers/pca.pkl\",\n",
    "    \"classifier\": \"classifiers/rcnn-mlp.h5\",\n",
    "}"
   ]
  },
  {
   "cell_type": "code",
   "execution_count": 3,
   "id": "7a4a42cd",
   "metadata": {},
   "outputs": [],
   "source": [
    "dataset = pd.read_csv(PATHS[\"dataset\"], index_col=False)\n",
    "pos = dataset[dataset[\"brand\"].astype(int) == 1]\n",
    "neg = dataset[dataset[\"brand\"].astype(int) == 0]"
   ]
  },
  {
   "cell_type": "code",
   "execution_count": 4,
   "id": "f9266f3e",
   "metadata": {},
   "outputs": [],
   "source": [
    "class Features:\n",
    "    \n",
    "    def compute_features(self, sample):\n",
    "        features = pd.DataFrame()\n",
    "        features[\"Has_Biography\"] = self._fe_has_biography(sample)\n",
    "        features[\"Media_Count\"] = sample[\"mediaCount\"].fillna(-1)\n",
    "        features[\"Has_City_Id\"] = self._fe_has_city_id(sample)\n",
    "        features[\"Latitude\"] = sample[\"latitude\"].fillna(-1)\n",
    "        features[\"Longitude\"] = sample[\"longitude\"].fillna(-1)\n",
    "        features[\"Has_Zip\"] = self._fe_has_zip(sample)\n",
    "        features[\"Has_Contact_Phone_Number\"] = self._fe_has_contact_phone_number(sample)\n",
    "        features[\"Following_Count\"] = sample[\"followingCount\"].fillna(-1)\n",
    "        features[\"Follower_Count\"] = sample[\"followerCount\"].fillna(-1)\n",
    "        features[\"Usertags_Count\"] = sample[\"usertagsCount\"].fillna(-1)\n",
    "        features[\"Is_External_Url\"] = self._fe_is_external_url(sample)\n",
    "        features[\"Is_Business\"] = sample[\"isBusiness\"].fillna(-1).astype(int)\n",
    "        features = pd.concat([features, self._fe_category(sample)], axis=1)\n",
    "        features[\"Geo_Media_Count\"] = sample[\"geoMediaCount\"].fillna(-1)\n",
    "        features[\"Shoppable_Posts_Count\"] = sample[\"shoppablePostsCount\"].fillna(-1)\n",
    "        features[\"Following_Tag_Count\"] = sample[\"followingTagCount\"].fillna(-1)\n",
    "        features[\"Is_Picture\"] = self._fe_is_picture(sample)\n",
    "        features = pd.concat([features, self._fe_image_labels(sample)], axis=1)\n",
    "        features[\"Has_Email\"] = sample[\"hasEmail\"].astype(int)\n",
    "        pickle.dump(features.columns, open(PATHS[\"feature-columns\"], \"wb\"))\n",
    "        return features\n",
    "\n",
    "    @staticmethod\n",
    "    def _fe_has_biography(sample):\n",
    "        feature = []\n",
    "        for item in sample[\"biography\"]:\n",
    "            if item == \"\" or pd.isnull(item):\n",
    "                feature.append(0)\n",
    "            else:\n",
    "                feature.append(1)\n",
    "        return feature\n",
    "\n",
    "    @staticmethod\n",
    "    def _fe_has_city_id(sample):\n",
    "        feature = []\n",
    "        for item in sample[\"cityId\"]:\n",
    "            if item == \"\" or pd.isnull(item):\n",
    "                feature.append(0)\n",
    "            else:\n",
    "                feature.append(1)\n",
    "        return feature\n",
    "    \n",
    "    @staticmethod\n",
    "    def _fe_has_zip(sample):\n",
    "        feature = []\n",
    "        for item in sample[\"zip\"]:\n",
    "            if item == \"\" or pd.isnull(item):\n",
    "                feature.append(0)\n",
    "            else:\n",
    "                feature.append(1)\n",
    "        return feature\n",
    "\n",
    "    @staticmethod\n",
    "    def _fe_has_contact_phone_number(sample):\n",
    "        feature = []\n",
    "        for item in sample[\"contactPhoneNumber\"]:\n",
    "            if item == \"\" or pd.isnull(item):\n",
    "                feature.append(0)\n",
    "            else:\n",
    "                feature.append(1)\n",
    "        return feature\n",
    "\n",
    "    @staticmethod\n",
    "    def _fe_is_external_url(sample):\n",
    "        feature = []\n",
    "        for item in sample[\"externalUrl\"]:\n",
    "            if item == \"\" or pd.isnull(item):\n",
    "                feature.append(0)\n",
    "            else:\n",
    "                feature.append(1)\n",
    "        return feature\n",
    "\n",
    "    @staticmethod\n",
    "    def _fe_category(sample):\n",
    "        return pd.get_dummies(sample[\"category\"])\n",
    "\n",
    "    @staticmethod\n",
    "    def _fe_is_picture(sample):\n",
    "        feature = []\n",
    "        for item in sample[\"picture\"]:\n",
    "            if item == \"\" or pd.isnull(item):\n",
    "                feature.append(0)\n",
    "            else:\n",
    "                feature.append(1)\n",
    "        return feature\n",
    "\n",
    "    @staticmethod\n",
    "    def _fe_image_labels(sample):\n",
    "        image_labels = set()\n",
    "        for item in sample[\"imageLabels\"]:\n",
    "            if \"nan\" not in item:\n",
    "                labels = ast.literal_eval(item[1:][:-1])\n",
    "                if \"((\" in str(labels):\n",
    "                    for label in labels:\n",
    "                        image_labels.add(label[0])\n",
    "                else:\n",
    "                    label = labels\n",
    "                    image_labels.add(label[0])\n",
    "        image_labels.add(\"nan\")\n",
    "        pickle.dump(image_labels, open(PATHS[\"image-labels\"], \"wb\"))\n",
    "        image_labels_df = pd.DataFrame(columns=image_labels)\n",
    "        for item in sample[\"imageLabels\"]:\n",
    "            image_labels_df.loc[len(image_labels_df)] = 0\n",
    "            if \"nan\" not in item:\n",
    "                labels = ast.literal_eval(item[1:][:-1])\n",
    "                if \"((\" in str(labels):\n",
    "                    for label in labels:\n",
    "                        val = image_labels_df.loc[image_labels_df.index[-1], label[0]]\n",
    "                        image_labels_df.loc[image_labels_df.index[-1], label[0]] = max(label[1], val)\n",
    "                else:\n",
    "                    label = labels\n",
    "                    image_labels_df.loc[image_labels_df.index[-1], label[0]] = label[1]\n",
    "            else:\n",
    "                image_labels_df.loc[image_labels_df.index[-1], \"nan\"] = 1\n",
    "        return image_labels_df\n",
    "\n",
    "    '''Tokenization'''\n",
    "    @staticmethod\n",
    "    def tokenize(sample, column, max_len=100):\n",
    "        alphabet = (list(string.ascii_lowercase) + list(string.digits) + list(string.punctuation) + [\"UNK\", \" \"])\n",
    "        vocab = {}\n",
    "        for i, c in enumerate(alphabet):\n",
    "            vocab[c] = i + 1\n",
    "        items = sample[column].astype(str).str.encode(\"utf-8\").str.decode(\"ascii\", \"ignore\").values.tolist()\n",
    "        tokenized = np.zeros((len(items), max_len))\n",
    "        for i in range(len(items)):\n",
    "            item_arr = np.zeros(max_len)\n",
    "            chars = list(items[i].lower())\n",
    "            for j in range(len(chars)):\n",
    "                # counter should not larger than max_len\n",
    "                if j >= max_len:\n",
    "                    break\n",
    "                if chars[j] in alphabet:\n",
    "                    item_arr[j] = vocab[chars[j]]\n",
    "                else:\n",
    "                    item_arr[j] = max(vocab.values())\n",
    "            tokenized[i, :] = item_arr\n",
    "        return tokenized\n",
    "\n",
    "    @staticmethod\n",
    "    def untokenize(tokenized):\n",
    "        alphabet = (list(string.ascii_lowercase) + list(string.digits) + list(string.punctuation) + [\"UNK\", \" \"])\n",
    "        reverse_vocab = {}\n",
    "        for i, c in enumerate(alphabet):\n",
    "            reverse_vocab[i + 1] = c\n",
    "        items = []\n",
    "        for item_arr in tokenized:\n",
    "            item = \" \".join([reverse_vocab[i] if i > 0 else \"\" for i in item_arr])\n",
    "            items.append(item)\n",
    "        return items"
   ]
  },
  {
   "cell_type": "code",
   "execution_count": 5,
   "id": "6a55863a",
   "metadata": {},
   "outputs": [],
   "source": [
    "f = Features()\n",
    "features = f.compute_features(dataset)\n",
    "tokenized_biography = f.tokenize(dataset, \"biography\", 170)\n",
    "untokenized_biography = f.untokenize(tokenized_biography)\n",
    "labels = dataset[\"brand\"].astype(int)"
   ]
  },
  {
   "cell_type": "code",
   "execution_count": 6,
   "id": "24745d7b",
   "metadata": {},
   "outputs": [],
   "source": [
    "(X_train,\n",
    " X_val,\n",
    " y_train,\n",
    " y_val,\n",
    " indices_train,\n",
    " indices_val) = train_test_split(features,\n",
    "                                 labels,\n",
    "                                 [i for i in range(len(features))],\n",
    "                                 random_state=42)"
   ]
  },
  {
   "cell_type": "code",
   "execution_count": 7,
   "id": "15585da8",
   "metadata": {},
   "outputs": [],
   "source": [
    "scaler = StandardScaler().fit(X_train)\n",
    "pickle.dump(scaler, open(PATHS[\"scaler\"], \"wb\"))\n",
    "X_scaled_train = scaler.transform(X_train)\n",
    "X_scaled_val = scaler.transform(X_val)"
   ]
  },
  {
   "cell_type": "code",
   "execution_count": 8,
   "id": "1d5d93d9",
   "metadata": {},
   "outputs": [],
   "source": [
    "pca = PCA(n_components=30).fit(X_scaled_train)\n",
    "pickle.dump(pca, open(PATHS[\"pca\"], \"wb\"))\n",
    "X_pca_train = pd.DataFrame(data=pca.transform(X_scaled_train), columns=[\"PC\" + str(i + 1) for i in range(30)])\n",
    "X_pca_val = pd.DataFrame(data=pca.transform(X_scaled_val), columns=[\"PC\" + str(i + 1) for i in range(30)])"
   ]
  },
  {
   "cell_type": "code",
   "execution_count": 9,
   "id": "acb54ea8",
   "metadata": {},
   "outputs": [],
   "source": [
    "X_token_train = np.array([tokenized_biography[i] for i in indices_train])\n",
    "X_token_val = np.array([tokenized_biography[i] for i in indices_val])"
   ]
  },
  {
   "cell_type": "code",
   "execution_count": 10,
   "id": "c238f2d1",
   "metadata": {},
   "outputs": [
    {
     "data": {
      "text/plain": [
       "70"
      ]
     },
     "execution_count": 10,
     "metadata": {},
     "output_type": "execute_result"
    }
   ],
   "source": [
    "alphabet = (list(string.ascii_lowercase) + list(string.digits) + list(string.punctuation) + [\"UNK\", \" \"])\n",
    "vocab_size = len(alphabet)\n",
    "vocab_size"
   ]
  },
  {
   "cell_type": "code",
   "execution_count": 11,
   "id": "64eed1c2",
   "metadata": {},
   "outputs": [
    {
     "name": "stdout",
     "output_type": "stream",
     "text": [
      "(71, 70)\n"
     ]
    },
    {
     "data": {
      "text/plain": [
       "array([[0., 0., 0., ..., 0., 0., 0.],\n",
       "       [1., 0., 0., ..., 0., 0., 0.],\n",
       "       [0., 1., 0., ..., 0., 0., 0.],\n",
       "       ...,\n",
       "       [0., 0., 0., ..., 1., 0., 0.],\n",
       "       [0., 0., 0., ..., 0., 1., 0.],\n",
       "       [0., 0., 0., ..., 0., 0., 1.]])"
      ]
     },
     "execution_count": 11,
     "metadata": {},
     "output_type": "execute_result"
    }
   ],
   "source": [
    "embedding_weights = [] # (71, 70)\n",
    "# Zero vector to represent the PAD\n",
    "embedding_weights.append(np.zeros(vocab_size))\n",
    "for i, c in enumerate(alphabet):\n",
    "    one_hot = np.zeros(vocab_size)\n",
    "    one_hot[i] = 1\n",
    "    embedding_weights.append(one_hot)\n",
    "embedding_weights = np.array(embedding_weights)\n",
    "# First row all 0 for PAD, 69 char, last row for UNK\n",
    "print(embedding_weights.shape)\n",
    "embedding_weights"
   ]
  },
  {
   "cell_type": "code",
   "execution_count": 12,
   "id": "f036f397",
   "metadata": {},
   "outputs": [],
   "source": [
    "input_size = 170\n",
    "embedding_size = 70\n",
    "conv_layers = [[8, 4, 2], [8, 4, 2], [8, 4, 2]]\n",
    "full_connected_layers = [8, 8]\n",
    "mlp_layers = [64, 256, 128, 64]\n",
    "dropout = 0.2\n",
    "optimizer = \"adam\"\n",
    "loss = \"binary_crossentropy\"\n",
    "monitor=\"val_accuracy\""
   ]
  },
  {
   "cell_type": "code",
   "execution_count": 13,
   "id": "62c172b8",
   "metadata": {},
   "outputs": [],
   "source": [
    "embedding_layer = Embedding(\n",
    "    input_dim=vocab_size + 1,\n",
    "    output_dim=embedding_size,\n",
    "    input_length=input_size,\n",
    "    weights=[embedding_weights])"
   ]
  },
  {
   "cell_type": "code",
   "execution_count": 14,
   "id": "5d3ac67d",
   "metadata": {},
   "outputs": [
    {
     "name": "stderr",
     "output_type": "stream",
     "text": [
      "2023-03-04 10:43:47.038739: I tensorflow/core/platform/cpu_feature_guard.cc:193] This TensorFlow binary is optimized with oneAPI Deep Neural Network Library (oneDNN) to use the following CPU instructions in performance-critical operations:  AVX2 AVX512F AVX512_VNNI FMA\n",
      "To enable them in other operations, rebuild TensorFlow with the appropriate compiler flags.\n"
     ]
    },
    {
     "name": "stdout",
     "output_type": "stream",
     "text": [
      "LSTM (None, 170, 32)\n",
      "Conv1D (None, 167, 8)\n",
      "MaxPooling1D (None, 83, 8)\n",
      "Conv1D (None, 80, 8)\n",
      "MaxPooling1D (None, 40, 8)\n",
      "Conv1D (None, 37, 8)\n",
      "MaxPooling1D (None, 18, 8)\n",
      "Flatten (None, 144)\n",
      "Dense (None, 8)\n",
      "Dense (None, 8)\n"
     ]
    }
   ],
   "source": [
    "rcnn_inputs = Input(shape=(input_size,), dtype=\"int64\")\n",
    "x = embedding_layer(rcnn_inputs)\n",
    "x = Bidirectional(LSTM(16, recurrent_dropout=dropout, return_sequences=True))(x)\n",
    "print(\"LSTM {}\".format(x.shape))\n",
    "for filter_num, filter_size, pooling_size in conv_layers:\n",
    "    x = Conv1D(filter_num, filter_size)(x)\n",
    "    print(\"Conv1D {}\".format(x.shape))\n",
    "    x = Activation(\"relu\")(x)\n",
    "    if pooling_size != -1:\n",
    "        x = MaxPooling1D(pool_size=pooling_size)(x)\n",
    "        print(\"MaxPooling1D {}\".format(x.shape))\n",
    "x = Flatten()(x)\n",
    "print(\"Flatten {}\".format(x.shape))\n",
    "for dense_size in full_connected_layers:\n",
    "    x = Dense(dense_size, activation=\"relu\")(x)\n",
    "    print(\"Dense {}\".format(x.shape))\n",
    "    x = Dropout(dropout)(x)\n",
    "rcnn_outputs = x"
   ]
  },
  {
   "cell_type": "code",
   "execution_count": 15,
   "id": "3d49bb94",
   "metadata": {},
   "outputs": [
    {
     "name": "stdout",
     "output_type": "stream",
     "text": [
      "Model: \"model\"\n",
      "_________________________________________________________________\n",
      " Layer (type)                Output Shape              Param #   \n",
      "=================================================================\n",
      " input_1 (InputLayer)        [(None, 170)]             0         \n",
      "                                                                 \n",
      " embedding (Embedding)       (None, 170, 70)           4970      \n",
      "                                                                 \n",
      " bidirectional (Bidirectiona  (None, 170, 32)          11136     \n",
      " l)                                                              \n",
      "                                                                 \n",
      " conv1d (Conv1D)             (None, 167, 8)            1032      \n",
      "                                                                 \n",
      " activation (Activation)     (None, 167, 8)            0         \n",
      "                                                                 \n",
      " max_pooling1d (MaxPooling1D  (None, 83, 8)            0         \n",
      " )                                                               \n",
      "                                                                 \n",
      " conv1d_1 (Conv1D)           (None, 80, 8)             264       \n",
      "                                                                 \n",
      " activation_1 (Activation)   (None, 80, 8)             0         \n",
      "                                                                 \n",
      " max_pooling1d_1 (MaxPooling  (None, 40, 8)            0         \n",
      " 1D)                                                             \n",
      "                                                                 \n",
      " conv1d_2 (Conv1D)           (None, 37, 8)             264       \n",
      "                                                                 \n",
      " activation_2 (Activation)   (None, 37, 8)             0         \n",
      "                                                                 \n",
      " max_pooling1d_2 (MaxPooling  (None, 18, 8)            0         \n",
      " 1D)                                                             \n",
      "                                                                 \n",
      " flatten (Flatten)           (None, 144)               0         \n",
      "                                                                 \n",
      " dense (Dense)               (None, 8)                 1160      \n",
      "                                                                 \n",
      " dropout (Dropout)           (None, 8)                 0         \n",
      "                                                                 \n",
      " dense_1 (Dense)             (None, 8)                 72        \n",
      "                                                                 \n",
      " dropout_1 (Dropout)         (None, 8)                 0         \n",
      "                                                                 \n",
      "=================================================================\n",
      "Total params: 18,898\n",
      "Trainable params: 18,898\n",
      "Non-trainable params: 0\n",
      "_________________________________________________________________\n"
     ]
    }
   ],
   "source": [
    "rcnn_classifier = Model(inputs=rcnn_inputs, outputs=rcnn_outputs)\n",
    "rcnn_classifier.summary()"
   ]
  },
  {
   "cell_type": "code",
   "execution_count": 16,
   "id": "5075af51",
   "metadata": {},
   "outputs": [
    {
     "name": "stdout",
     "output_type": "stream",
     "text": [
      "Dense (None, 64)\n",
      "Dense (None, 256)\n",
      "Dense (None, 128)\n",
      "Dense (None, 64)\n"
     ]
    }
   ],
   "source": [
    "mlp_inputs = Input(shape=(X_pca_train.shape[1],), name=\"mlp_input\")\n",
    "y = mlp_inputs\n",
    "for dense_size in mlp_layers:\n",
    "    y = Dense(dense_size, activation=\"relu\")(y)\n",
    "    print(\"Dense {}\".format(y.shape))\n",
    "    y = Dropout(dropout)(y)\n",
    "mlp_outputs = y"
   ]
  },
  {
   "cell_type": "code",
   "execution_count": 17,
   "id": "e499b013",
   "metadata": {},
   "outputs": [
    {
     "name": "stdout",
     "output_type": "stream",
     "text": [
      "Model: \"model_1\"\n",
      "_________________________________________________________________\n",
      " Layer (type)                Output Shape              Param #   \n",
      "=================================================================\n",
      " mlp_input (InputLayer)      [(None, 30)]              0         \n",
      "                                                                 \n",
      " dense_2 (Dense)             (None, 64)                1984      \n",
      "                                                                 \n",
      " dropout_2 (Dropout)         (None, 64)                0         \n",
      "                                                                 \n",
      " dense_3 (Dense)             (None, 256)               16640     \n",
      "                                                                 \n",
      " dropout_3 (Dropout)         (None, 256)               0         \n",
      "                                                                 \n",
      " dense_4 (Dense)             (None, 128)               32896     \n",
      "                                                                 \n",
      " dropout_4 (Dropout)         (None, 128)               0         \n",
      "                                                                 \n",
      " dense_5 (Dense)             (None, 64)                8256      \n",
      "                                                                 \n",
      " dropout_5 (Dropout)         (None, 64)                0         \n",
      "                                                                 \n",
      "=================================================================\n",
      "Total params: 59,776\n",
      "Trainable params: 59,776\n",
      "Non-trainable params: 0\n",
      "_________________________________________________________________\n"
     ]
    }
   ],
   "source": [
    "mlp_classifier = Model(inputs=mlp_inputs, outputs=mlp_outputs)\n",
    "mlp_classifier.summary()"
   ]
  },
  {
   "cell_type": "code",
   "execution_count": 18,
   "id": "6c2f218c",
   "metadata": {},
   "outputs": [],
   "source": [
    "concatenated = concatenate([rcnn_outputs, mlp_outputs])\n",
    "outputs = Dense(1, activation=\"sigmoid\")(concatenated)"
   ]
  },
  {
   "cell_type": "code",
   "execution_count": 19,
   "id": "09876306",
   "metadata": {},
   "outputs": [
    {
     "name": "stdout",
     "output_type": "stream",
     "text": [
      "Model: \"model_2\"\n",
      "__________________________________________________________________________________________________\n",
      " Layer (type)                   Output Shape         Param #     Connected to                     \n",
      "==================================================================================================\n",
      " input_1 (InputLayer)           [(None, 170)]        0           []                               \n",
      "                                                                                                  \n",
      " embedding (Embedding)          (None, 170, 70)      4970        ['input_1[0][0]']                \n",
      "                                                                                                  \n",
      " bidirectional (Bidirectional)  (None, 170, 32)      11136       ['embedding[0][0]']              \n",
      "                                                                                                  \n",
      " conv1d (Conv1D)                (None, 167, 8)       1032        ['bidirectional[0][0]']          \n",
      "                                                                                                  \n",
      " activation (Activation)        (None, 167, 8)       0           ['conv1d[0][0]']                 \n",
      "                                                                                                  \n",
      " max_pooling1d (MaxPooling1D)   (None, 83, 8)        0           ['activation[0][0]']             \n",
      "                                                                                                  \n",
      " conv1d_1 (Conv1D)              (None, 80, 8)        264         ['max_pooling1d[0][0]']          \n",
      "                                                                                                  \n",
      " activation_1 (Activation)      (None, 80, 8)        0           ['conv1d_1[0][0]']               \n",
      "                                                                                                  \n",
      " max_pooling1d_1 (MaxPooling1D)  (None, 40, 8)       0           ['activation_1[0][0]']           \n",
      "                                                                                                  \n",
      " mlp_input (InputLayer)         [(None, 30)]         0           []                               \n",
      "                                                                                                  \n",
      " conv1d_2 (Conv1D)              (None, 37, 8)        264         ['max_pooling1d_1[0][0]']        \n",
      "                                                                                                  \n",
      " dense_2 (Dense)                (None, 64)           1984        ['mlp_input[0][0]']              \n",
      "                                                                                                  \n",
      " activation_2 (Activation)      (None, 37, 8)        0           ['conv1d_2[0][0]']               \n",
      "                                                                                                  \n",
      " dropout_2 (Dropout)            (None, 64)           0           ['dense_2[0][0]']                \n",
      "                                                                                                  \n",
      " max_pooling1d_2 (MaxPooling1D)  (None, 18, 8)       0           ['activation_2[0][0]']           \n",
      "                                                                                                  \n",
      " dense_3 (Dense)                (None, 256)          16640       ['dropout_2[0][0]']              \n",
      "                                                                                                  \n",
      " flatten (Flatten)              (None, 144)          0           ['max_pooling1d_2[0][0]']        \n",
      "                                                                                                  \n",
      " dropout_3 (Dropout)            (None, 256)          0           ['dense_3[0][0]']                \n",
      "                                                                                                  \n",
      " dense (Dense)                  (None, 8)            1160        ['flatten[0][0]']                \n",
      "                                                                                                  \n",
      " dense_4 (Dense)                (None, 128)          32896       ['dropout_3[0][0]']              \n",
      "                                                                                                  \n",
      " dropout (Dropout)              (None, 8)            0           ['dense[0][0]']                  \n",
      "                                                                                                  \n",
      " dropout_4 (Dropout)            (None, 128)          0           ['dense_4[0][0]']                \n",
      "                                                                                                  \n",
      " dense_1 (Dense)                (None, 8)            72          ['dropout[0][0]']                \n",
      "                                                                                                  \n",
      " dense_5 (Dense)                (None, 64)           8256        ['dropout_4[0][0]']              \n",
      "                                                                                                  \n",
      " dropout_1 (Dropout)            (None, 8)            0           ['dense_1[0][0]']                \n",
      "                                                                                                  \n",
      " dropout_5 (Dropout)            (None, 64)           0           ['dense_5[0][0]']                \n",
      "                                                                                                  \n",
      " concatenate (Concatenate)      (None, 72)           0           ['dropout_1[0][0]',              \n",
      "                                                                  'dropout_5[0][0]']              \n",
      "                                                                                                  \n",
      " dense_6 (Dense)                (None, 1)            73          ['concatenate[0][0]']            \n",
      "                                                                                                  \n",
      "==================================================================================================\n",
      "Total params: 78,747\n",
      "Trainable params: 78,747\n",
      "Non-trainable params: 0\n",
      "__________________________________________________________________________________________________\n"
     ]
    }
   ],
   "source": [
    "classifier = Model([rcnn_inputs, mlp_inputs], outputs)\n",
    "classifier.compile(optimizer=optimizer, loss=loss, metrics=[\"accuracy\"])\n",
    "classifier.summary()"
   ]
  },
  {
   "cell_type": "code",
   "execution_count": 20,
   "id": "680b8447",
   "metadata": {
    "scrolled": false
   },
   "outputs": [
    {
     "name": "stdout",
     "output_type": "stream",
     "text": [
      "Epoch 1/100\n",
      "6/6 [==============================] - ETA: 0s - loss: 0.7003 - accuracy: 0.6636\n",
      "Epoch 1: val_accuracy improved from -inf to 0.77600, saving model to classifiers/rcnn-mlp.h5\n",
      "6/6 [==============================] - 6s 289ms/step - loss: 0.7003 - accuracy: 0.6636 - val_loss: 0.5675 - val_accuracy: 0.7760\n",
      "Epoch 2/100\n",
      "6/6 [==============================] - ETA: 0s - loss: 0.5946 - accuracy: 0.7637\n",
      "Epoch 2: val_accuracy improved from 0.77600 to 0.78400, saving model to classifiers/rcnn-mlp.h5\n",
      "6/6 [==============================] - 1s 171ms/step - loss: 0.5946 - accuracy: 0.7637 - val_loss: 0.5084 - val_accuracy: 0.7840\n",
      "Epoch 3/100\n",
      "6/6 [==============================] - ETA: 0s - loss: 0.5416 - accuracy: 0.7864\n",
      "Epoch 3: val_accuracy improved from 0.78400 to 0.79200, saving model to classifiers/rcnn-mlp.h5\n",
      "6/6 [==============================] - 1s 173ms/step - loss: 0.5416 - accuracy: 0.7864 - val_loss: 0.4819 - val_accuracy: 0.7920\n",
      "Epoch 4/100\n",
      "6/6 [==============================] - ETA: 0s - loss: 0.4926 - accuracy: 0.7984\n",
      "Epoch 4: val_accuracy did not improve from 0.79200\n",
      "6/6 [==============================] - 1s 158ms/step - loss: 0.4926 - accuracy: 0.7984 - val_loss: 0.4740 - val_accuracy: 0.7920\n",
      "Epoch 5/100\n",
      "6/6 [==============================] - ETA: 0s - loss: 0.5101 - accuracy: 0.8077\n",
      "Epoch 5: val_accuracy improved from 0.79200 to 0.79600, saving model to classifiers/rcnn-mlp.h5\n",
      "6/6 [==============================] - 1s 175ms/step - loss: 0.5101 - accuracy: 0.8077 - val_loss: 0.4720 - val_accuracy: 0.7960\n",
      "Epoch 6/100\n",
      "6/6 [==============================] - ETA: 0s - loss: 0.5041 - accuracy: 0.8037\n",
      "Epoch 6: val_accuracy did not improve from 0.79600\n",
      "6/6 [==============================] - 1s 157ms/step - loss: 0.5041 - accuracy: 0.8037 - val_loss: 0.4748 - val_accuracy: 0.7920\n",
      "Epoch 7/100\n",
      "6/6 [==============================] - ETA: 0s - loss: 0.4760 - accuracy: 0.8131\n",
      "Epoch 7: val_accuracy did not improve from 0.79600\n",
      "6/6 [==============================] - 1s 159ms/step - loss: 0.4760 - accuracy: 0.8131 - val_loss: 0.4804 - val_accuracy: 0.7960\n",
      "Epoch 8/100\n",
      "6/6 [==============================] - ETA: 0s - loss: 0.4523 - accuracy: 0.8024\n",
      "Epoch 8: val_accuracy did not improve from 0.79600\n",
      "6/6 [==============================] - 1s 154ms/step - loss: 0.4523 - accuracy: 0.8024 - val_loss: 0.4832 - val_accuracy: 0.7960\n",
      "Epoch 9/100\n",
      "6/6 [==============================] - ETA: 0s - loss: 0.4524 - accuracy: 0.8051\n",
      "Epoch 9: val_accuracy did not improve from 0.79600\n",
      "6/6 [==============================] - 1s 176ms/step - loss: 0.4524 - accuracy: 0.8051 - val_loss: 0.4878 - val_accuracy: 0.7920\n",
      "Epoch 10/100\n",
      "6/6 [==============================] - ETA: 0s - loss: 0.4425 - accuracy: 0.8278\n",
      "Epoch 10: val_accuracy improved from 0.79600 to 0.80000, saving model to classifiers/rcnn-mlp.h5\n",
      "6/6 [==============================] - 1s 185ms/step - loss: 0.4425 - accuracy: 0.8278 - val_loss: 0.4885 - val_accuracy: 0.8000\n",
      "Epoch 11/100\n",
      "6/6 [==============================] - ETA: 0s - loss: 0.4777 - accuracy: 0.8024\n",
      "Epoch 11: val_accuracy did not improve from 0.80000\n",
      "6/6 [==============================] - 1s 161ms/step - loss: 0.4777 - accuracy: 0.8024 - val_loss: 0.4836 - val_accuracy: 0.7920\n",
      "Epoch 12/100\n",
      "6/6 [==============================] - ETA: 0s - loss: 0.4457 - accuracy: 0.8251\n",
      "Epoch 12: val_accuracy did not improve from 0.80000\n",
      "6/6 [==============================] - 1s 160ms/step - loss: 0.4457 - accuracy: 0.8251 - val_loss: 0.4772 - val_accuracy: 0.7920\n",
      "Epoch 13/100\n",
      "6/6 [==============================] - ETA: 0s - loss: 0.4317 - accuracy: 0.8211\n",
      "Epoch 13: val_accuracy did not improve from 0.80000\n",
      "6/6 [==============================] - 1s 166ms/step - loss: 0.4317 - accuracy: 0.8211 - val_loss: 0.4740 - val_accuracy: 0.7880\n",
      "Epoch 14/100\n",
      "6/6 [==============================] - ETA: 0s - loss: 0.4208 - accuracy: 0.8251\n",
      "Epoch 14: val_accuracy did not improve from 0.80000\n",
      "6/6 [==============================] - 1s 167ms/step - loss: 0.4208 - accuracy: 0.8251 - val_loss: 0.4747 - val_accuracy: 0.7800\n",
      "Epoch 15/100\n",
      "6/6 [==============================] - ETA: 0s - loss: 0.4332 - accuracy: 0.8077\n",
      "Epoch 15: val_accuracy did not improve from 0.80000\n",
      "6/6 [==============================] - 1s 176ms/step - loss: 0.4332 - accuracy: 0.8077 - val_loss: 0.4729 - val_accuracy: 0.7800\n",
      "Epoch 16/100\n",
      "6/6 [==============================] - ETA: 0s - loss: 0.4218 - accuracy: 0.8371\n",
      "Epoch 16: val_accuracy did not improve from 0.80000\n",
      "6/6 [==============================] - 1s 170ms/step - loss: 0.4218 - accuracy: 0.8371 - val_loss: 0.4732 - val_accuracy: 0.7880\n",
      "Epoch 17/100\n",
      "6/6 [==============================] - ETA: 0s - loss: 0.4274 - accuracy: 0.8291\n",
      "Epoch 17: val_accuracy did not improve from 0.80000\n",
      "6/6 [==============================] - 1s 180ms/step - loss: 0.4274 - accuracy: 0.8291 - val_loss: 0.4725 - val_accuracy: 0.7840\n",
      "Epoch 18/100\n",
      "6/6 [==============================] - ETA: 0s - loss: 0.4339 - accuracy: 0.8318\n",
      "Epoch 18: val_accuracy did not improve from 0.80000\n",
      "6/6 [==============================] - 1s 167ms/step - loss: 0.4339 - accuracy: 0.8318 - val_loss: 0.4724 - val_accuracy: 0.7800\n",
      "Epoch 19/100\n",
      "6/6 [==============================] - ETA: 0s - loss: 0.4098 - accuracy: 0.8318\n",
      "Epoch 19: val_accuracy did not improve from 0.80000\n",
      "6/6 [==============================] - 1s 163ms/step - loss: 0.4098 - accuracy: 0.8318 - val_loss: 0.4736 - val_accuracy: 0.7760\n",
      "Epoch 20/100\n",
      "6/6 [==============================] - ETA: 0s - loss: 0.4216 - accuracy: 0.8304\n",
      "Epoch 20: val_accuracy did not improve from 0.80000\n",
      "6/6 [==============================] - 1s 169ms/step - loss: 0.4216 - accuracy: 0.8304 - val_loss: 0.4762 - val_accuracy: 0.7760\n"
     ]
    }
   ],
   "source": [
    "checkpoint = ModelCheckpoint(PATHS[\"classifier\"], monitor=monitor, save_best_only=True, verbose=1)\n",
    "early_stopping = EarlyStopping(monitor=monitor, patience=10, restore_best_weights=True)\n",
    "history = classifier.fit(\n",
    "    [X_token_train, X_pca_train], y_train, epochs=100,\n",
    "    validation_data=([X_token_val, X_pca_val], y_val), verbose=1, batch_size=128,\n",
    "    callbacks=[early_stopping, checkpoint])"
   ]
  },
  {
   "cell_type": "code",
   "execution_count": 21,
   "id": "f8983d95",
   "metadata": {},
   "outputs": [
    {
     "data": {
      "text/plain": [
       "<matplotlib.legend.Legend at 0x7fc170fb7e90>"
      ]
     },
     "execution_count": 21,
     "metadata": {},
     "output_type": "execute_result"
    },
    {
     "data": {
      "image/png": "[encoded data removed]",
      "text/plain": [
       "<Figure size 432x288 with 1 Axes>"
      ]
     },
     "metadata": {
      "needs_background": "light"
     },
     "output_type": "display_data"
    }
   ],
   "source": [
    "plt.plot(history.history[\"loss\"], label=\"train\")\n",
    "plt.plot(history.history[\"val_loss\"], label=\"validation\")\n",
    "plt.legend()"
   ]
  },
  {
   "cell_type": "code",
   "execution_count": 22,
   "id": "eb81eef3",
   "metadata": {},
   "outputs": [
    {
     "data": {
      "text/plain": [
       "<matplotlib.legend.Legend at 0x7fc171b04350>"
      ]
     },
     "execution_count": 22,
     "metadata": {},
     "output_type": "execute_result"
    },
    {
     "data": {
      "image/png": "[encoded data removed]",
      "text/plain": [
       "<Figure size 432x288 with 1 Axes>"
      ]
     },
     "metadata": {
      "needs_background": "light"
     },
     "output_type": "display_data"
    }
   ],
   "source": [
    "plt.plot(history.history[\"accuracy\"], label=\"train\")\n",
    "plt.plot(history.history[\"val_accuracy\"], label=\"validation\")\n",
    "plt.legend()"
   ]
  },
  {
   "cell_type": "code",
   "execution_count": 23,
   "id": "d417d604",
   "metadata": {},
   "outputs": [
    {
     "name": "stdout",
     "output_type": "stream",
     "text": [
      "24/24 [==============================] - 1s 30ms/step - loss: 0.4053 - accuracy: 0.8398\n",
      "Accuracy on training set: 0.8397864103317261\n",
      "8/8 [==============================] - 0s 27ms/step - loss: 0.4885 - accuracy: 0.8000\n",
      "Accuracy on validation set: 0.800000011920929\n"
     ]
    }
   ],
   "source": [
    "print(\"Accuracy on training set: {}\".format(classifier.evaluate([X_token_train, X_pca_train], y_train)[1]))\n",
    "print(\"Accuracy on validation set: {}\".format(classifier.evaluate([X_token_val, X_pca_val], y_val)[1]))"
   ]
  },
  {
   "cell_type": "code",
   "execution_count": 24,
   "id": "aac4ccf7",
   "metadata": {},
   "outputs": [
    {
     "name": "stdout",
     "output_type": "stream",
     "text": [
      "8/8 [==============================] - 1s 26ms/step\n",
      "Precision: 0.826\n",
      "Recall: 0.826\n",
      "Threshold: 0.502\n"
     ]
    },
    {
     "data": {
      "image/png": "[encoded data removed]",
      "text/plain": [
       "<Figure size 432x288 with 1 Axes>"
      ]
     },
     "metadata": {
      "needs_background": "light"
     },
     "output_type": "display_data"
    }
   ],
   "source": [
    "precision, recall, thresholds = precision_recall_curve(\n",
    "    y_val, np.asarray(classifier.predict([X_token_val, X_pca_val])).reshape(-1))\n",
    "close_zero = np.argmin(np.abs(thresholds - 0.5))\n",
    "plt.plot(precision[close_zero], recall[close_zero], \"o\", markersize=10, label=\"threshold 0.5\", fillstyle=\"none\",\n",
    "        c=\"k\", mew=2)\n",
    "plt.plot(precision, recall, label=\"precision recall curve\")\n",
    "plt.xlabel(\"Precision\")\n",
    "plt.ylabel(\"Recall\")\n",
    "plt.legend(loc=\"best\")\n",
    "print(\"Precision: {:.3f}\\nRecall: {:.3f}\\nThreshold: {:.3f}\".format(precision[close_zero],\n",
    "                                                                    recall[close_zero], thresholds[close_zero]))"
   ]
  },
  {
   "cell_type": "code",
   "execution_count": 25,
   "id": "1cfb1010",
   "metadata": {},
   "outputs": [
    {
     "name": "stdout",
     "output_type": "stream",
     "text": [
      "8/8 [==============================] - 0s 26ms/step\n",
      "TPR: 0.826\n",
      "FPR: 0.236\n",
      "Threshold: 0.502\n"
     ]
    },
    {
     "data": {
      "image/png": "[encoded data removed]",
      "text/plain": [
       "<Figure size 432x288 with 1 Axes>"
      ]
     },
     "metadata": {
      "needs_background": "light"
     },
     "output_type": "display_data"
    }
   ],
   "source": [
    "fpr, tpr, thresholds = roc_curve(y_val, np.asarray(classifier.predict([X_token_val, X_pca_val])).reshape(-1))\n",
    "plt.plot(fpr, tpr, label=\"ROC Curve\")\n",
    "plt.xlabel(\"FPR\")\n",
    "plt.ylabel(\"TPR (recall)\")\n",
    "close_zero = np.argmin(np.abs(thresholds - 0.5))\n",
    "plt.plot(fpr[close_zero], tpr[close_zero], \"o\", markersize=10, label=\"threshold 0.5\", fillstyle=\"none\", c=\"k\", mew=2)\n",
    "plt.legend(loc=4)\n",
    "print(\"TPR: {:.3f}\\nFPR: {:.3f}\\nThreshold: {:.3f}\".format(tpr[close_zero], fpr[close_zero], thresholds[close_zero]))"
   ]
  },
  {
   "cell_type": "code",
   "execution_count": 26,
   "id": "136ed93f",
   "metadata": {},
   "outputs": [
    {
     "name": "stdout",
     "output_type": "stream",
     "text": [
      "8/8 [==============================] - 0s 27ms/step\n",
      "              precision    recall  f1-score   support\n",
      "\n",
      "   Not Brand       0.76      0.76      0.76       106\n",
      "       Brand       0.83      0.83      0.83       144\n",
      "\n",
      "    accuracy                           0.80       250\n",
      "   macro avg       0.80      0.80      0.80       250\n",
      "weighted avg       0.80      0.80      0.80       250\n",
      "\n"
     ]
    }
   ],
   "source": [
    "predictions = np.asarray(classifier.predict([X_token_val, X_pca_val])).reshape(-1) > 0.5\n",
    "print(classification_report(y_val, predictions, target_names=['Not Brand', 'Brand']))"
   ]
  },
  {
   "cell_type": "code",
   "execution_count": 27,
   "id": "6e1a6f31",
   "metadata": {},
   "outputs": [
    {
     "name": "stdout",
     "output_type": "stream",
     "text": [
      "Confusion matrix:\n",
      "[[ 81  25]\n",
      " [ 25 119]]\n"
     ]
    },
    {
     "data": {
      "image/png": "[encoded data removed]",
      "text/plain": [
       "<Figure size 432x288 with 1 Axes>"
      ]
     },
     "metadata": {
      "needs_background": "light"
     },
     "output_type": "display_data"
    }
   ],
   "source": [
    "confusion = confusion_matrix(y_val, predictions)\n",
    "print(\"Confusion matrix:\\n{}\".format(confusion))\n",
    "scores_image = mglearn.tools.heatmap(\n",
    "        confusion_matrix(y_val, predictions), xlabel=\"Predicted Label\", ylabel=\"True Label\",\n",
    "        xticklabels=[\"Not Brand\", \"Brand\"],\n",
    "        yticklabels=[\"Not Brand\", \"Brand\"],\n",
    "        cmap=plt.cm.gray_r, fmt=\"%d\")\n",
    "plt.title(\"Confusion Matrix\")\n",
    "plt.gca().invert_yaxis()"
   ]
  },
  {
   "cell_type": "code",
   "execution_count": 28,
   "id": "590f3f72",
   "metadata": {},
   "outputs": [],
   "source": [
    "classifier.save_weights(PATHS[\"classifier\"])"
   ]
  }
 ],
 "metadata": {
  "kernelspec": {
   "display_name": "Python 3 (ipykernel)",
   "language": "python",
   "name": "python3"
  },
  "language_info": {
   "codemirror_mode": {
    "name": "ipython",
    "version": 3
   },
   "file_extension": ".py",
   "mimetype": "text/x-python",
   "name": "python",
   "nbconvert_exporter": "python",
   "pygments_lexer": "ipython3",
   "version": "3.7.10"
  }
 },
 "nbformat": 4,
 "nbformat_minor": 5
}
