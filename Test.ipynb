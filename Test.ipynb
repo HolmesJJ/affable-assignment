{
 "cells": [
  {
   "cell_type": "code",
   "execution_count": 1,
   "id": "b69ce4af",
   "metadata": {},
   "outputs": [],
   "source": [
    "import ast\n",
    "import numpy as np\n",
    "import pandas as pd\n",
    "import pickle\n",
    "import string\n",
    "import mglearn\n",
    "import matplotlib.pyplot as plt\n",
    "\n",
    "from keras.models import Model\n",
    "from keras.layers import LSTM\n",
    "from keras.layers import Dense\n",
    "from keras.layers import Input\n",
    "from keras.layers import Conv1D\n",
    "from keras.layers import Dropout\n",
    "from keras.layers import Flatten\n",
    "from keras.layers import Embedding\n",
    "from keras.layers import Activation\n",
    "from keras.layers import concatenate\n",
    "from keras.layers import MaxPooling1D\n",
    "from keras.layers import Bidirectional\n",
    "from sklearn.metrics import roc_curve\n",
    "from sklearn.metrics import confusion_matrix\n",
    "from sklearn.metrics import classification_report\n",
    "from sklearn.metrics import precision_recall_curve\n",
    "from sklearn.preprocessing import StandardScaler\n",
    "from sklearn.decomposition import PCA"
   ]
  },
  {
   "cell_type": "code",
   "execution_count": 2,
   "id": "bbf8aa89",
   "metadata": {},
   "outputs": [],
   "source": [
    "PATHS = {\n",
    "    \"dataset\": \"data.csv\",\n",
    "    \"feature-columns\": \"feature-columns.pkl\",\n",
    "    \"image-labels\": \"image-labels.pkl\",\n",
    "    \"scaler\": \"classifiers/scaler.pkl\",\n",
    "    \"pca\": \"classifiers/pca.pkl\",\n",
    "    \"classifier\": \"classifiers/rcnn-mlp.h5\",\n",
    "}"
   ]
  },
  {
   "cell_type": "code",
   "execution_count": 3,
   "id": "928e5af0",
   "metadata": {},
   "outputs": [],
   "source": [
    "dataset = pd.read_csv(PATHS[\"dataset\"], index_col=False)\n",
    "pos = dataset[dataset[\"brand\"].astype(int) == 1]\n",
    "neg = dataset[dataset[\"brand\"].astype(int) == 0]"
   ]
  },
  {
   "cell_type": "code",
   "execution_count": 4,
   "id": "8eb51ed2",
   "metadata": {},
   "outputs": [],
   "source": [
    "class Features:\n",
    "    \n",
    "    def compute_features(self, sample):\n",
    "        feature_columns = pickle.load(open(PATHS[\"feature-columns\"], \"rb\"))\n",
    "        features = pd.DataFrame(columns=feature_columns)\n",
    "        features[\"Has_Biography\"] = self._fe_has_biography(sample)\n",
    "        features[\"Media_Count\"] = sample[\"mediaCount\"].fillna(-1)\n",
    "        features[\"Has_City_Id\"] = self._fe_has_city_id(sample)\n",
    "        features[\"Latitude\"] = sample[\"latitude\"].fillna(-1)\n",
    "        features[\"Longitude\"] = sample[\"longitude\"].fillna(-1)\n",
    "        features[\"Has_Zip\"] = self._fe_has_zip(sample)\n",
    "        features[\"Has_Contact_Phone_Number\"] = self._fe_has_contact_phone_number(sample)\n",
    "        features[\"Following_Count\"] = sample[\"followingCount\"].fillna(-1)\n",
    "        features[\"Follower_Count\"] = sample[\"followerCount\"].fillna(-1)\n",
    "        features[\"Usertags_Count\"] = sample[\"usertagsCount\"].fillna(-1)\n",
    "        features[\"Is_External_Url\"] = self._fe_is_external_url(sample)\n",
    "        features[\"Is_Business\"] = sample[\"isBusiness\"].fillna(-1).astype(int)\n",
    "        category_features = self._fe_category(sample)\n",
    "        for category_column in category_features.columns:\n",
    "            if category_column in feature_columns:\n",
    "                features[category_column] = category_features[category_column]\n",
    "        features[\"Geo_Media_Count\"] = sample[\"geoMediaCount\"].fillna(-1)\n",
    "        features[\"Shoppable_Posts_Count\"] = sample[\"shoppablePostsCount\"].fillna(-1)\n",
    "        features[\"Following_Tag_Count\"] = sample[\"followingTagCount\"].fillna(-1)\n",
    "        features[\"Is_Picture\"] = self._fe_is_picture(sample)\n",
    "        image_label_features = self._fe_image_labels(sample)\n",
    "        for image_label_column in image_label_features.columns:\n",
    "            if image_label_column in feature_columns:\n",
    "                features[image_label_column] = image_label_features[image_label_column]\n",
    "        features[\"Has_Email\"] = sample[\"hasEmail\"].astype(int)\n",
    "        return features\n",
    "\n",
    "    @staticmethod\n",
    "    def _fe_has_biography(sample):\n",
    "        feature = []\n",
    "        for item in sample[\"biography\"]:\n",
    "            if item == \"\" or pd.isnull(item):\n",
    "                feature.append(0)\n",
    "            else:\n",
    "                feature.append(1)\n",
    "        return feature\n",
    "\n",
    "    @staticmethod\n",
    "    def _fe_has_city_id(sample):\n",
    "        feature = []\n",
    "        for item in sample[\"cityId\"]:\n",
    "            if item == \"\" or pd.isnull(item):\n",
    "                feature.append(0)\n",
    "            else:\n",
    "                feature.append(1)\n",
    "        return feature\n",
    "    \n",
    "    @staticmethod\n",
    "    def _fe_has_zip(sample):\n",
    "        feature = []\n",
    "        for item in sample[\"zip\"]:\n",
    "            if item == \"\" or pd.isnull(item):\n",
    "                feature.append(0)\n",
    "            else:\n",
    "                feature.append(1)\n",
    "        return feature\n",
    "\n",
    "    @staticmethod\n",
    "    def _fe_has_contact_phone_number(sample):\n",
    "        feature = []\n",
    "        for item in sample[\"contactPhoneNumber\"]:\n",
    "            if item == \"\" or pd.isnull(item):\n",
    "                feature.append(0)\n",
    "            else:\n",
    "                feature.append(1)\n",
    "        return feature\n",
    "\n",
    "    @staticmethod\n",
    "    def _fe_is_external_url(sample):\n",
    "        feature = []\n",
    "        for item in sample[\"externalUrl\"]:\n",
    "            if item == \"\" or pd.isnull(item):\n",
    "                feature.append(0)\n",
    "            else:\n",
    "                feature.append(1)\n",
    "        return feature\n",
    "\n",
    "    @staticmethod\n",
    "    def _fe_category(sample):\n",
    "        return pd.get_dummies(sample[\"category\"])\n",
    "\n",
    "    @staticmethod\n",
    "    def _fe_is_picture(sample):\n",
    "        feature = []\n",
    "        for item in sample[\"picture\"]:\n",
    "            if item == \"\" or pd.isnull(item):\n",
    "                feature.append(0)\n",
    "            else:\n",
    "                feature.append(1)\n",
    "        return feature\n",
    "\n",
    "    @staticmethod\n",
    "    def _fe_image_labels(sample):\n",
    "        image_labels = pickle.load(open(PATHS[\"image-labels\"], \"rb\"))\n",
    "        image_labels_df = pd.DataFrame(columns=image_labels)\n",
    "        for item in sample[\"imageLabels\"]:\n",
    "            image_labels_df.loc[len(image_labels_df)] = 0\n",
    "            if \"nan\" not in item:\n",
    "                labels = ast.literal_eval(item[1:][:-1])\n",
    "                if \"((\" in str(labels):\n",
    "                    for label in labels:\n",
    "                        val = image_labels_df.loc[image_labels_df.index[-1], label[0]]\n",
    "                        image_labels_df.loc[image_labels_df.index[-1], label[0]] = max(label[1], val)\n",
    "                else:\n",
    "                    label = labels\n",
    "                    image_labels_df.loc[image_labels_df.index[-1], label[0]] = label[1]\n",
    "            else:\n",
    "                image_labels_df.loc[image_labels_df.index[-1], \"nan\"] = 1\n",
    "        return image_labels_df\n",
    "\n",
    "    '''Tokenization'''\n",
    "    @staticmethod\n",
    "    def tokenize(sample, column, max_len=100):\n",
    "        alphabet = (list(string.ascii_lowercase) + list(string.digits) + list(string.punctuation) + [\"UNK\", \" \"])\n",
    "        vocab = {}\n",
    "        for i, c in enumerate(alphabet):\n",
    "            vocab[c] = i + 1\n",
    "        items = sample[column].astype(str).str.encode(\"utf-8\").str.decode(\"ascii\", \"ignore\").values.tolist()\n",
    "        tokenized = np.zeros((len(items), max_len))\n",
    "        for i in range(len(items)):\n",
    "            item_arr = np.zeros(max_len)\n",
    "            chars = list(items[i].lower())\n",
    "            for j in range(len(chars)):\n",
    "                # counter should not larger than max_len\n",
    "                if j >= max_len:\n",
    "                    break\n",
    "                if chars[j] in alphabet:\n",
    "                    item_arr[j] = vocab[chars[j]]\n",
    "                else:\n",
    "                    item_arr[j] = max(vocab.values())\n",
    "            tokenized[i, :] = item_arr\n",
    "        return tokenized\n",
    "\n",
    "    @staticmethod\n",
    "    def untokenize(tokenized):\n",
    "        alphabet = (list(string.ascii_lowercase) + list(string.digits) + list(string.punctuation) + [\"UNK\", \" \"])\n",
    "        reverse_vocab = {}\n",
    "        for i, c in enumerate(alphabet):\n",
    "            reverse_vocab[i + 1] = c\n",
    "        items = []\n",
    "        for item_arr in tokenized:\n",
    "            item = \" \".join([reverse_vocab[i] if i > 0 else \"\" for i in item_arr])\n",
    "            items.append(item)\n",
    "        return items"
   ]
  },
  {
   "cell_type": "code",
   "execution_count": 5,
   "id": "ddb73d29",
   "metadata": {},
   "outputs": [],
   "source": [
    "f = Features()\n",
    "features = f.compute_features(dataset)\n",
    "tokenized_biography = f.tokenize(dataset, \"biography\", 170)\n",
    "untokenized_biography = f.untokenize(tokenized_biography)\n",
    "labels = dataset[\"brand\"].astype(int)"
   ]
  },
  {
   "cell_type": "code",
   "execution_count": 6,
   "id": "5bfe0aa4",
   "metadata": {},
   "outputs": [],
   "source": [
    "scaler = pickle.load(open(PATHS[\"scaler\"], \"rb\"))\n",
    "scaled_features = scaler.transform(features)"
   ]
  },
  {
   "cell_type": "code",
   "execution_count": 7,
   "id": "6dc24475",
   "metadata": {},
   "outputs": [],
   "source": [
    "pca = pickle.load(open(PATHS[\"pca\"], \"rb\"))\n",
    "pca_features = pd.DataFrame(data=pca.transform(scaled_features), columns=[\"PC\" + str(i + 1) for i in range(30)])"
   ]
  },
  {
   "cell_type": "code",
   "execution_count": 8,
   "id": "1780b90b",
   "metadata": {},
   "outputs": [
    {
     "data": {
      "text/plain": [
       "70"
      ]
     },
     "execution_count": 8,
     "metadata": {},
     "output_type": "execute_result"
    }
   ],
   "source": [
    "alphabet = (list(string.ascii_lowercase) + list(string.digits) + list(string.punctuation) + [\"UNK\", \" \"])\n",
    "vocab_size = len(alphabet)\n",
    "vocab_size"
   ]
  },
  {
   "cell_type": "code",
   "execution_count": 9,
   "id": "8db74838",
   "metadata": {},
   "outputs": [
    {
     "name": "stdout",
     "output_type": "stream",
     "text": [
      "(71, 70)\n"
     ]
    },
    {
     "data": {
      "text/plain": [
       "array([[0., 0., 0., ..., 0., 0., 0.],\n",
       "       [1., 0., 0., ..., 0., 0., 0.],\n",
       "       [0., 1., 0., ..., 0., 0., 0.],\n",
       "       ...,\n",
       "       [0., 0., 0., ..., 1., 0., 0.],\n",
       "       [0., 0., 0., ..., 0., 1., 0.],\n",
       "       [0., 0., 0., ..., 0., 0., 1.]])"
      ]
     },
     "execution_count": 9,
     "metadata": {},
     "output_type": "execute_result"
    }
   ],
   "source": [
    "embedding_weights = [] # (71, 70)\n",
    "# Zero vector to represent the PAD\n",
    "embedding_weights.append(np.zeros(vocab_size))\n",
    "for i, c in enumerate(alphabet):\n",
    "    one_hot = np.zeros(vocab_size)\n",
    "    one_hot[i] = 1\n",
    "    embedding_weights.append(one_hot)\n",
    "embedding_weights = np.array(embedding_weights)\n",
    "# First row all 0 for PAD, 69 char, last row for UNK\n",
    "print(embedding_weights.shape)\n",
    "embedding_weights"
   ]
  },
  {
   "cell_type": "code",
   "execution_count": 10,
   "id": "41ce6800",
   "metadata": {},
   "outputs": [],
   "source": [
    "input_size = 170\n",
    "embedding_size = 70\n",
    "conv_layers = [[8, 4, 2], [8, 4, 2], [8, 4, 2]]\n",
    "full_connected_layers = [8, 8]\n",
    "mlp_layers = [64, 256, 128, 64]\n",
    "dropout = 0.2"
   ]
  },
  {
   "cell_type": "code",
   "execution_count": 11,
   "id": "be8ef95e",
   "metadata": {},
   "outputs": [],
   "source": [
    "embedding_layer = Embedding(\n",
    "    input_dim=vocab_size + 1,\n",
    "    output_dim=embedding_size,\n",
    "    input_length=input_size,\n",
    "    weights=[embedding_weights])"
   ]
  },
  {
   "cell_type": "code",
   "execution_count": 12,
   "id": "d01d0381",
   "metadata": {},
   "outputs": [
    {
     "name": "stderr",
     "output_type": "stream",
     "text": [
      "2023-03-04 10:52:44.600537: I tensorflow/core/platform/cpu_feature_guard.cc:193] This TensorFlow binary is optimized with oneAPI Deep Neural Network Library (oneDNN) to use the following CPU instructions in performance-critical operations:  AVX2 AVX512F AVX512_VNNI FMA\n",
      "To enable them in other operations, rebuild TensorFlow with the appropriate compiler flags.\n"
     ]
    },
    {
     "name": "stdout",
     "output_type": "stream",
     "text": [
      "LSTM (None, 170, 32)\n",
      "Conv1D (None, 167, 8)\n",
      "MaxPooling1D (None, 83, 8)\n",
      "Conv1D (None, 80, 8)\n",
      "MaxPooling1D (None, 40, 8)\n",
      "Conv1D (None, 37, 8)\n",
      "MaxPooling1D (None, 18, 8)\n",
      "Flatten (None, 144)\n",
      "Dense (None, 8)\n",
      "Dense (None, 8)\n"
     ]
    }
   ],
   "source": [
    "rcnn_inputs = Input(shape=(input_size,), dtype=\"int64\")\n",
    "x = embedding_layer(rcnn_inputs)\n",
    "x = Bidirectional(LSTM(16, recurrent_dropout=dropout, return_sequences=True))(x)\n",
    "print(\"LSTM {}\".format(x.shape))\n",
    "for filter_num, filter_size, pooling_size in conv_layers:\n",
    "    x = Conv1D(filter_num, filter_size)(x)\n",
    "    print(\"Conv1D {}\".format(x.shape))\n",
    "    x = Activation(\"relu\")(x)\n",
    "    if pooling_size != -1:\n",
    "        x = MaxPooling1D(pool_size=pooling_size)(x)\n",
    "        print(\"MaxPooling1D {}\".format(x.shape))\n",
    "x = Flatten()(x)\n",
    "print(\"Flatten {}\".format(x.shape))\n",
    "for dense_size in full_connected_layers:\n",
    "    x = Dense(dense_size, activation=\"relu\")(x)\n",
    "    print(\"Dense {}\".format(x.shape))\n",
    "    x = Dropout(dropout)(x)\n",
    "rcnn_outputs = x"
   ]
  },
  {
   "cell_type": "code",
   "execution_count": 13,
   "id": "9ea096a5",
   "metadata": {},
   "outputs": [
    {
     "name": "stdout",
     "output_type": "stream",
     "text": [
      "Dense (None, 64)\n",
      "Dense (None, 256)\n",
      "Dense (None, 128)\n",
      "Dense (None, 64)\n"
     ]
    }
   ],
   "source": [
    "mlp_inputs = Input(shape=(pca_features.shape[1],), name=\"mlp_input\")\n",
    "y = mlp_inputs\n",
    "for dense_size in mlp_layers:\n",
    "    y = Dense(dense_size, activation=\"relu\")(y)\n",
    "    print(\"Dense {}\".format(y.shape))\n",
    "    y = Dropout(dropout)(y)\n",
    "mlp_outputs = y"
   ]
  },
  {
   "cell_type": "code",
   "execution_count": 14,
   "id": "7bcb867a",
   "metadata": {},
   "outputs": [],
   "source": [
    "concatenated = concatenate([rcnn_outputs, mlp_outputs])\n",
    "outputs = Dense(1, activation=\"sigmoid\")(concatenated)"
   ]
  },
  {
   "cell_type": "code",
   "execution_count": 15,
   "id": "c5b27a00",
   "metadata": {},
   "outputs": [],
   "source": [
    "classifier = Model([rcnn_inputs, mlp_inputs], outputs)"
   ]
  },
  {
   "cell_type": "code",
   "execution_count": 16,
   "id": "dbbed1c4",
   "metadata": {},
   "outputs": [],
   "source": [
    "classifier.load_weights(PATHS[\"classifier\"])"
   ]
  },
  {
   "cell_type": "code",
   "execution_count": 17,
   "id": "a10aaba1",
   "metadata": {},
   "outputs": [
    {
     "name": "stdout",
     "output_type": "stream",
     "text": [
      "32/32 [==============================] - 2s 28ms/step\n",
      "Precision: 0.852\n",
      "Recall: 0.833\n",
      "Threshold: 0.502\n"
     ]
    },
    {
     "data": {
      "image/png": "[encoded data removed]",
      "text/plain": [
       "<Figure size 432x288 with 1 Axes>"
      ]
     },
     "metadata": {
      "needs_background": "light"
     },
     "output_type": "display_data"
    }
   ],
   "source": [
    "precision, recall, thresholds = precision_recall_curve(\n",
    "    labels, np.asarray(classifier.predict([tokenized_biography, pca_features])).reshape(-1))\n",
    "close_zero = np.argmin(np.abs(thresholds - 0.5))\n",
    "plt.plot(precision[close_zero], recall[close_zero], \"o\", markersize=10, label=\"threshold 0.5\", fillstyle=\"none\",\n",
    "        c=\"k\", mew=2)\n",
    "plt.plot(precision, recall, label=\"precision recall curve\")\n",
    "plt.xlabel(\"Precision\")\n",
    "plt.ylabel(\"Recall\")\n",
    "plt.legend(loc=\"best\")\n",
    "print(\"Precision: {:.3f}\\nRecall: {:.3f}\\nThreshold: {:.3f}\".format(precision[close_zero],\n",
    "                                                                    recall[close_zero], thresholds[close_zero]))"
   ]
  },
  {
   "cell_type": "code",
   "execution_count": 18,
   "id": "c474edd4",
   "metadata": {},
   "outputs": [
    {
     "name": "stdout",
     "output_type": "stream",
     "text": [
      "32/32 [==============================] - 1s 28ms/step\n",
      "TPR: 0.831\n",
      "FPR: 0.174\n",
      "Threshold: 0.503\n"
     ]
    },
    {
     "data": {
      "image/png": "[encoded data removed]",
      "text/plain": [
       "<Figure size 432x288 with 1 Axes>"
      ]
     },
     "metadata": {
      "needs_background": "light"
     },
     "output_type": "display_data"
    }
   ],
   "source": [
    "fpr, tpr, thresholds = roc_curve(labels, np.asarray(\n",
    "    classifier.predict([tokenized_biography, pca_features])).reshape(-1))\n",
    "plt.plot(fpr, tpr, label=\"ROC Curve\")\n",
    "plt.xlabel(\"FPR\")\n",
    "plt.ylabel(\"TPR (recall)\")\n",
    "close_zero = np.argmin(np.abs(thresholds - 0.5))\n",
    "plt.plot(fpr[close_zero], tpr[close_zero], \"o\", markersize=10, label=\"threshold 0.5\", fillstyle=\"none\", c=\"k\", mew=2)\n",
    "plt.legend(loc=4)\n",
    "print(\"TPR: {:.3f}\\nFPR: {:.3f}\\nThreshold: {:.3f}\".format(tpr[close_zero], fpr[close_zero], thresholds[close_zero]))"
   ]
  },
  {
   "cell_type": "code",
   "execution_count": 19,
   "id": "6bbed952",
   "metadata": {},
   "outputs": [
    {
     "name": "stdout",
     "output_type": "stream",
     "text": [
      "32/32 [==============================] - 1s 28ms/step\n",
      "              precision    recall  f1-score   support\n",
      "\n",
      "   Not Brand       0.80      0.83      0.82       454\n",
      "       Brand       0.85      0.83      0.84       545\n",
      "\n",
      "    accuracy                           0.83       999\n",
      "   macro avg       0.83      0.83      0.83       999\n",
      "weighted avg       0.83      0.83      0.83       999\n",
      "\n"
     ]
    }
   ],
   "source": [
    "predictions = np.asarray(classifier.predict([tokenized_biography, pca_features])).reshape(-1) > 0.5\n",
    "print(classification_report(labels, predictions, target_names=['Not Brand', 'Brand']))"
   ]
  },
  {
   "cell_type": "code",
   "execution_count": 20,
   "id": "83bd6694",
   "metadata": {},
   "outputs": [
    {
     "name": "stdout",
     "output_type": "stream",
     "text": [
      "Confusion matrix:\n",
      "[[375  79]\n",
      " [ 91 454]]\n"
     ]
    },
    {
     "data": {
      "image/png": "[encoded data removed]",
      "text/plain": [
       "<Figure size 432x288 with 1 Axes>"
      ]
     },
     "metadata": {
      "needs_background": "light"
     },
     "output_type": "display_data"
    }
   ],
   "source": [
    "confusion = confusion_matrix(labels, predictions)\n",
    "print(\"Confusion matrix:\\n{}\".format(confusion))\n",
    "scores_image = mglearn.tools.heatmap(\n",
    "        confusion_matrix(labels, predictions), xlabel=\"Predicted Label\", ylabel=\"True Label\",\n",
    "        xticklabels=[\"Not Phishing\", \"Phishing\"],\n",
    "        yticklabels=[\"Not Phishing\", \"Phishing\"],\n",
    "        cmap=plt.cm.gray_r, fmt=\"%d\")\n",
    "plt.title(\"Confusion Matrix\")\n",
    "plt.gca().invert_yaxis()"
   ]
  }
 ],
 "metadata": {
  "kernelspec": {
   "display_name": "Python 3 (ipykernel)",
   "language": "python",
   "name": "python3"
  },
  "language_info": {
   "codemirror_mode": {
    "name": "ipython",
    "version": 3
   },
   "file_extension": ".py",
   "mimetype": "text/x-python",
   "name": "python",
   "nbconvert_exporter": "python",
   "pygments_lexer": "ipython3",
   "version": "3.7.10"
  }
 },
 "nbformat": 4,
 "nbformat_minor": 5
}
